{
 "cells": [
  {
   "cell_type": "code",
   "execution_count": 1,
   "id": "eeec61f9",
   "metadata": {
    "_cell_guid": "b1076dfc-b9ad-4769-8c92-a6c4dae69d19",
    "_uuid": "8f2839f25d086af736a60e9eeb907d3b93b6e0e5",
    "execution": {
     "iopub.execute_input": "2022-08-12T11:45:02.467987Z",
     "iopub.status.busy": "2022-08-12T11:45:02.467478Z",
     "iopub.status.idle": "2022-08-12T11:45:03.676208Z",
     "shell.execute_reply": "2022-08-12T11:45:03.674749Z"
    },
    "papermill": {
     "duration": 1.22368,
     "end_time": "2022-08-12T11:45:03.679256",
     "exception": false,
     "start_time": "2022-08-12T11:45:02.455576",
     "status": "completed"
    },
    "tags": []
   },
   "outputs": [],
   "source": [
    "import numpy as np # linear algebra\n",
    "import pandas as pd # data processing, CSV file I/O (e.g. pd.read_csv)\n",
    "\n",
    "from sklearn.model_selection import train_test_split\n",
    "from sklearn.linear_model import LinearRegression\n",
    "import matplotlib.pyplot as plt"
   ]
  },
  {
   "cell_type": "markdown",
   "id": "c0bd1b7f",
   "metadata": {
    "papermill": {
     "duration": 0.008616,
     "end_time": "2022-08-12T11:45:03.696273",
     "exception": false,
     "start_time": "2022-08-12T11:45:03.687657",
     "status": "completed"
    },
    "tags": []
   },
   "source": [
    "# importing data"
   ]
  },
  {
   "cell_type": "code",
   "execution_count": 2,
   "id": "9b86f21e",
   "metadata": {
    "execution": {
     "iopub.execute_input": "2022-08-12T11:45:03.715893Z",
     "iopub.status.busy": "2022-08-12T11:45:03.714770Z",
     "iopub.status.idle": "2022-08-12T11:45:12.487501Z",
     "shell.execute_reply": "2022-08-12T11:45:12.486399Z"
    },
    "papermill": {
     "duration": 8.785565,
     "end_time": "2022-08-12T11:45:12.490133",
     "exception": false,
     "start_time": "2022-08-12T11:45:03.704568",
     "status": "completed"
    },
    "tags": []
   },
   "outputs": [
    {
     "name": "stderr",
     "output_type": "stream",
     "text": [
      "/opt/conda/lib/python3.7/site-packages/IPython/core/interactiveshell.py:3552: DtypeWarning: Columns (47,73) have mixed types.Specify dtype option on import or set low_memory=False.\n",
      "  exec(code_obj, self.user_global_ns, self.user_ns)\n"
     ]
    },
    {
     "data": {
      "text/html": [
       "<div>\n",
       "<style scoped>\n",
       "    .dataframe tbody tr th:only-of-type {\n",
       "        vertical-align: middle;\n",
       "    }\n",
       "\n",
       "    .dataframe tbody tr th {\n",
       "        vertical-align: top;\n",
       "    }\n",
       "\n",
       "    .dataframe thead th {\n",
       "        text-align: right;\n",
       "    }\n",
       "</style>\n",
       "<table border=\"1\" class=\"dataframe\">\n",
       "  <thead>\n",
       "    <tr style=\"text-align: right;\">\n",
       "      <th></th>\n",
       "      <th>Cst_Cnt</th>\n",
       "      <th>Btl_Cnt</th>\n",
       "      <th>Sta_ID</th>\n",
       "      <th>Depth_ID</th>\n",
       "      <th>Depthm</th>\n",
       "      <th>T_degC</th>\n",
       "      <th>Salnty</th>\n",
       "      <th>O2ml_L</th>\n",
       "      <th>STheta</th>\n",
       "      <th>O2Sat</th>\n",
       "      <th>...</th>\n",
       "      <th>R_PHAEO</th>\n",
       "      <th>R_PRES</th>\n",
       "      <th>R_SAMP</th>\n",
       "      <th>DIC1</th>\n",
       "      <th>DIC2</th>\n",
       "      <th>TA1</th>\n",
       "      <th>TA2</th>\n",
       "      <th>pH2</th>\n",
       "      <th>pH1</th>\n",
       "      <th>DIC Quality Comment</th>\n",
       "    </tr>\n",
       "  </thead>\n",
       "  <tbody>\n",
       "    <tr>\n",
       "      <th>0</th>\n",
       "      <td>1</td>\n",
       "      <td>1</td>\n",
       "      <td>054.0 056.0</td>\n",
       "      <td>19-4903CR-HY-060-0930-05400560-0000A-3</td>\n",
       "      <td>0</td>\n",
       "      <td>10.50</td>\n",
       "      <td>33.440</td>\n",
       "      <td>NaN</td>\n",
       "      <td>25.649</td>\n",
       "      <td>NaN</td>\n",
       "      <td>...</td>\n",
       "      <td>NaN</td>\n",
       "      <td>0</td>\n",
       "      <td>NaN</td>\n",
       "      <td>NaN</td>\n",
       "      <td>NaN</td>\n",
       "      <td>NaN</td>\n",
       "      <td>NaN</td>\n",
       "      <td>NaN</td>\n",
       "      <td>NaN</td>\n",
       "      <td>NaN</td>\n",
       "    </tr>\n",
       "    <tr>\n",
       "      <th>1</th>\n",
       "      <td>1</td>\n",
       "      <td>2</td>\n",
       "      <td>054.0 056.0</td>\n",
       "      <td>19-4903CR-HY-060-0930-05400560-0008A-3</td>\n",
       "      <td>8</td>\n",
       "      <td>10.46</td>\n",
       "      <td>33.440</td>\n",
       "      <td>NaN</td>\n",
       "      <td>25.656</td>\n",
       "      <td>NaN</td>\n",
       "      <td>...</td>\n",
       "      <td>NaN</td>\n",
       "      <td>8</td>\n",
       "      <td>NaN</td>\n",
       "      <td>NaN</td>\n",
       "      <td>NaN</td>\n",
       "      <td>NaN</td>\n",
       "      <td>NaN</td>\n",
       "      <td>NaN</td>\n",
       "      <td>NaN</td>\n",
       "      <td>NaN</td>\n",
       "    </tr>\n",
       "    <tr>\n",
       "      <th>2</th>\n",
       "      <td>1</td>\n",
       "      <td>3</td>\n",
       "      <td>054.0 056.0</td>\n",
       "      <td>19-4903CR-HY-060-0930-05400560-0010A-7</td>\n",
       "      <td>10</td>\n",
       "      <td>10.46</td>\n",
       "      <td>33.437</td>\n",
       "      <td>NaN</td>\n",
       "      <td>25.654</td>\n",
       "      <td>NaN</td>\n",
       "      <td>...</td>\n",
       "      <td>NaN</td>\n",
       "      <td>10</td>\n",
       "      <td>NaN</td>\n",
       "      <td>NaN</td>\n",
       "      <td>NaN</td>\n",
       "      <td>NaN</td>\n",
       "      <td>NaN</td>\n",
       "      <td>NaN</td>\n",
       "      <td>NaN</td>\n",
       "      <td>NaN</td>\n",
       "    </tr>\n",
       "    <tr>\n",
       "      <th>3</th>\n",
       "      <td>1</td>\n",
       "      <td>4</td>\n",
       "      <td>054.0 056.0</td>\n",
       "      <td>19-4903CR-HY-060-0930-05400560-0019A-3</td>\n",
       "      <td>19</td>\n",
       "      <td>10.45</td>\n",
       "      <td>33.420</td>\n",
       "      <td>NaN</td>\n",
       "      <td>25.643</td>\n",
       "      <td>NaN</td>\n",
       "      <td>...</td>\n",
       "      <td>NaN</td>\n",
       "      <td>19</td>\n",
       "      <td>NaN</td>\n",
       "      <td>NaN</td>\n",
       "      <td>NaN</td>\n",
       "      <td>NaN</td>\n",
       "      <td>NaN</td>\n",
       "      <td>NaN</td>\n",
       "      <td>NaN</td>\n",
       "      <td>NaN</td>\n",
       "    </tr>\n",
       "    <tr>\n",
       "      <th>4</th>\n",
       "      <td>1</td>\n",
       "      <td>5</td>\n",
       "      <td>054.0 056.0</td>\n",
       "      <td>19-4903CR-HY-060-0930-05400560-0020A-7</td>\n",
       "      <td>20</td>\n",
       "      <td>10.45</td>\n",
       "      <td>33.421</td>\n",
       "      <td>NaN</td>\n",
       "      <td>25.643</td>\n",
       "      <td>NaN</td>\n",
       "      <td>...</td>\n",
       "      <td>NaN</td>\n",
       "      <td>20</td>\n",
       "      <td>NaN</td>\n",
       "      <td>NaN</td>\n",
       "      <td>NaN</td>\n",
       "      <td>NaN</td>\n",
       "      <td>NaN</td>\n",
       "      <td>NaN</td>\n",
       "      <td>NaN</td>\n",
       "      <td>NaN</td>\n",
       "    </tr>\n",
       "  </tbody>\n",
       "</table>\n",
       "<p>5 rows × 74 columns</p>\n",
       "</div>"
      ],
      "text/plain": [
       "   Cst_Cnt  Btl_Cnt       Sta_ID                                Depth_ID  \\\n",
       "0        1        1  054.0 056.0  19-4903CR-HY-060-0930-05400560-0000A-3   \n",
       "1        1        2  054.0 056.0  19-4903CR-HY-060-0930-05400560-0008A-3   \n",
       "2        1        3  054.0 056.0  19-4903CR-HY-060-0930-05400560-0010A-7   \n",
       "3        1        4  054.0 056.0  19-4903CR-HY-060-0930-05400560-0019A-3   \n",
       "4        1        5  054.0 056.0  19-4903CR-HY-060-0930-05400560-0020A-7   \n",
       "\n",
       "   Depthm  T_degC  Salnty  O2ml_L  STheta  O2Sat  ...  R_PHAEO  R_PRES  \\\n",
       "0       0   10.50  33.440     NaN  25.649    NaN  ...      NaN       0   \n",
       "1       8   10.46  33.440     NaN  25.656    NaN  ...      NaN       8   \n",
       "2      10   10.46  33.437     NaN  25.654    NaN  ...      NaN      10   \n",
       "3      19   10.45  33.420     NaN  25.643    NaN  ...      NaN      19   \n",
       "4      20   10.45  33.421     NaN  25.643    NaN  ...      NaN      20   \n",
       "\n",
       "   R_SAMP  DIC1  DIC2  TA1  TA2  pH2  pH1  DIC Quality Comment  \n",
       "0     NaN   NaN   NaN  NaN  NaN  NaN  NaN                  NaN  \n",
       "1     NaN   NaN   NaN  NaN  NaN  NaN  NaN                  NaN  \n",
       "2     NaN   NaN   NaN  NaN  NaN  NaN  NaN                  NaN  \n",
       "3     NaN   NaN   NaN  NaN  NaN  NaN  NaN                  NaN  \n",
       "4     NaN   NaN   NaN  NaN  NaN  NaN  NaN                  NaN  \n",
       "\n",
       "[5 rows x 74 columns]"
      ]
     },
     "execution_count": 2,
     "metadata": {},
     "output_type": "execute_result"
    }
   ],
   "source": [
    "dataset = pd.read_csv(\"../input/calcofi/bottle.csv\")\n",
    "dataset.head()"
   ]
  },
  {
   "cell_type": "code",
   "execution_count": 3,
   "id": "5e43fa70",
   "metadata": {
    "execution": {
     "iopub.execute_input": "2022-08-12T11:45:12.509036Z",
     "iopub.status.busy": "2022-08-12T11:45:12.508242Z",
     "iopub.status.idle": "2022-08-12T11:45:12.515506Z",
     "shell.execute_reply": "2022-08-12T11:45:12.514301Z"
    },
    "papermill": {
     "duration": 0.018898,
     "end_time": "2022-08-12T11:45:12.517727",
     "exception": false,
     "start_time": "2022-08-12T11:45:12.498829",
     "status": "completed"
    },
    "tags": []
   },
   "outputs": [
    {
     "data": {
      "text/plain": [
       "(864863, 74)"
      ]
     },
     "execution_count": 3,
     "metadata": {},
     "output_type": "execute_result"
    }
   ],
   "source": [
    "dataset.shape"
   ]
  },
  {
   "cell_type": "code",
   "execution_count": 4,
   "id": "3fe0eeec",
   "metadata": {
    "execution": {
     "iopub.execute_input": "2022-08-12T11:45:12.536380Z",
     "iopub.status.busy": "2022-08-12T11:45:12.535948Z",
     "iopub.status.idle": "2022-08-12T11:45:15.064046Z",
     "shell.execute_reply": "2022-08-12T11:45:15.062987Z"
    },
    "papermill": {
     "duration": 2.540405,
     "end_time": "2022-08-12T11:45:15.066677",
     "exception": false,
     "start_time": "2022-08-12T11:45:12.526272",
     "status": "completed"
    },
    "tags": []
   },
   "outputs": [
    {
     "data": {
      "text/html": [
       "<div>\n",
       "<style scoped>\n",
       "    .dataframe tbody tr th:only-of-type {\n",
       "        vertical-align: middle;\n",
       "    }\n",
       "\n",
       "    .dataframe tbody tr th {\n",
       "        vertical-align: top;\n",
       "    }\n",
       "\n",
       "    .dataframe thead th {\n",
       "        text-align: right;\n",
       "    }\n",
       "</style>\n",
       "<table border=\"1\" class=\"dataframe\">\n",
       "  <thead>\n",
       "    <tr style=\"text-align: right;\">\n",
       "      <th></th>\n",
       "      <th>Cst_Cnt</th>\n",
       "      <th>Btl_Cnt</th>\n",
       "      <th>Depthm</th>\n",
       "      <th>T_degC</th>\n",
       "      <th>Salnty</th>\n",
       "      <th>O2ml_L</th>\n",
       "      <th>STheta</th>\n",
       "      <th>O2Sat</th>\n",
       "      <th>Oxy_µmol/Kg</th>\n",
       "      <th>BtlNum</th>\n",
       "      <th>...</th>\n",
       "      <th>R_CHLA</th>\n",
       "      <th>R_PHAEO</th>\n",
       "      <th>R_PRES</th>\n",
       "      <th>R_SAMP</th>\n",
       "      <th>DIC1</th>\n",
       "      <th>DIC2</th>\n",
       "      <th>TA1</th>\n",
       "      <th>TA2</th>\n",
       "      <th>pH2</th>\n",
       "      <th>pH1</th>\n",
       "    </tr>\n",
       "  </thead>\n",
       "  <tbody>\n",
       "    <tr>\n",
       "      <th>count</th>\n",
       "      <td>864863.000000</td>\n",
       "      <td>864863.000000</td>\n",
       "      <td>864863.000000</td>\n",
       "      <td>853900.000000</td>\n",
       "      <td>817509.000000</td>\n",
       "      <td>696201.000000</td>\n",
       "      <td>812174.000000</td>\n",
       "      <td>661274.000000</td>\n",
       "      <td>661268.000000</td>\n",
       "      <td>118667.000000</td>\n",
       "      <td>...</td>\n",
       "      <td>225276.000000</td>\n",
       "      <td>225275.000000</td>\n",
       "      <td>864863.000000</td>\n",
       "      <td>122006.000000</td>\n",
       "      <td>1999.000000</td>\n",
       "      <td>224.000000</td>\n",
       "      <td>2084.000000</td>\n",
       "      <td>234.000000</td>\n",
       "      <td>10.000000</td>\n",
       "      <td>84.000000</td>\n",
       "    </tr>\n",
       "    <tr>\n",
       "      <th>mean</th>\n",
       "      <td>17138.790958</td>\n",
       "      <td>432432.000000</td>\n",
       "      <td>226.831951</td>\n",
       "      <td>10.799677</td>\n",
       "      <td>33.840350</td>\n",
       "      <td>3.392468</td>\n",
       "      <td>25.819394</td>\n",
       "      <td>57.103779</td>\n",
       "      <td>148.808694</td>\n",
       "      <td>10.497426</td>\n",
       "      <td>...</td>\n",
       "      <td>0.450225</td>\n",
       "      <td>0.198599</td>\n",
       "      <td>228.395694</td>\n",
       "      <td>162.071521</td>\n",
       "      <td>2153.239714</td>\n",
       "      <td>2168.148330</td>\n",
       "      <td>2256.055845</td>\n",
       "      <td>2278.858803</td>\n",
       "      <td>7.948570</td>\n",
       "      <td>7.910983</td>\n",
       "    </tr>\n",
       "    <tr>\n",
       "      <th>std</th>\n",
       "      <td>10240.949817</td>\n",
       "      <td>249664.587269</td>\n",
       "      <td>316.050259</td>\n",
       "      <td>4.243825</td>\n",
       "      <td>0.461843</td>\n",
       "      <td>2.073256</td>\n",
       "      <td>1.167787</td>\n",
       "      <td>37.094137</td>\n",
       "      <td>90.187533</td>\n",
       "      <td>6.189688</td>\n",
       "      <td>...</td>\n",
       "      <td>1.208566</td>\n",
       "      <td>0.376539</td>\n",
       "      <td>319.456731</td>\n",
       "      <td>85.722796</td>\n",
       "      <td>112.995202</td>\n",
       "      <td>154.852332</td>\n",
       "      <td>34.844435</td>\n",
       "      <td>58.496495</td>\n",
       "      <td>0.021216</td>\n",
       "      <td>0.077666</td>\n",
       "    </tr>\n",
       "    <tr>\n",
       "      <th>min</th>\n",
       "      <td>1.000000</td>\n",
       "      <td>1.000000</td>\n",
       "      <td>0.000000</td>\n",
       "      <td>1.440000</td>\n",
       "      <td>28.431000</td>\n",
       "      <td>-0.010000</td>\n",
       "      <td>20.934000</td>\n",
       "      <td>-0.100000</td>\n",
       "      <td>-0.434900</td>\n",
       "      <td>0.000000</td>\n",
       "      <td>...</td>\n",
       "      <td>-0.010000</td>\n",
       "      <td>-3.890000</td>\n",
       "      <td>0.000000</td>\n",
       "      <td>0.000000</td>\n",
       "      <td>1948.850000</td>\n",
       "      <td>1969.440000</td>\n",
       "      <td>2181.570000</td>\n",
       "      <td>2198.150000</td>\n",
       "      <td>7.923100</td>\n",
       "      <td>7.618300</td>\n",
       "    </tr>\n",
       "    <tr>\n",
       "      <th>25%</th>\n",
       "      <td>8269.000000</td>\n",
       "      <td>216216.500000</td>\n",
       "      <td>46.000000</td>\n",
       "      <td>7.680000</td>\n",
       "      <td>33.488000</td>\n",
       "      <td>1.360000</td>\n",
       "      <td>24.965000</td>\n",
       "      <td>21.100000</td>\n",
       "      <td>60.915470</td>\n",
       "      <td>5.000000</td>\n",
       "      <td>...</td>\n",
       "      <td>0.050000</td>\n",
       "      <td>0.050000</td>\n",
       "      <td>46.000000</td>\n",
       "      <td>200.000000</td>\n",
       "      <td>2028.330000</td>\n",
       "      <td>2008.977500</td>\n",
       "      <td>2230.322500</td>\n",
       "      <td>2229.062500</td>\n",
       "      <td>7.931475</td>\n",
       "      <td>7.898675</td>\n",
       "    </tr>\n",
       "    <tr>\n",
       "      <th>50%</th>\n",
       "      <td>16848.000000</td>\n",
       "      <td>432432.000000</td>\n",
       "      <td>125.000000</td>\n",
       "      <td>10.060000</td>\n",
       "      <td>33.863000</td>\n",
       "      <td>3.440000</td>\n",
       "      <td>25.996000</td>\n",
       "      <td>54.400000</td>\n",
       "      <td>151.064150</td>\n",
       "      <td>10.000000</td>\n",
       "      <td>...</td>\n",
       "      <td>0.160000</td>\n",
       "      <td>0.110000</td>\n",
       "      <td>126.000000</td>\n",
       "      <td>206.000000</td>\n",
       "      <td>2170.640000</td>\n",
       "      <td>2265.885000</td>\n",
       "      <td>2244.325000</td>\n",
       "      <td>2247.505000</td>\n",
       "      <td>7.946650</td>\n",
       "      <td>7.928850</td>\n",
       "    </tr>\n",
       "    <tr>\n",
       "      <th>75%</th>\n",
       "      <td>26557.000000</td>\n",
       "      <td>648647.500000</td>\n",
       "      <td>300.000000</td>\n",
       "      <td>13.880000</td>\n",
       "      <td>34.196900</td>\n",
       "      <td>5.500000</td>\n",
       "      <td>26.646000</td>\n",
       "      <td>97.600000</td>\n",
       "      <td>240.379600</td>\n",
       "      <td>16.000000</td>\n",
       "      <td>...</td>\n",
       "      <td>0.390000</td>\n",
       "      <td>0.230000</td>\n",
       "      <td>302.000000</td>\n",
       "      <td>214.000000</td>\n",
       "      <td>2253.810000</td>\n",
       "      <td>2315.525000</td>\n",
       "      <td>2278.505000</td>\n",
       "      <td>2316.452500</td>\n",
       "      <td>7.963300</td>\n",
       "      <td>7.955100</td>\n",
       "    </tr>\n",
       "    <tr>\n",
       "      <th>max</th>\n",
       "      <td>34404.000000</td>\n",
       "      <td>864863.000000</td>\n",
       "      <td>5351.000000</td>\n",
       "      <td>31.140000</td>\n",
       "      <td>37.034000</td>\n",
       "      <td>11.130000</td>\n",
       "      <td>250.784000</td>\n",
       "      <td>214.100000</td>\n",
       "      <td>485.701800</td>\n",
       "      <td>25.000000</td>\n",
       "      <td>...</td>\n",
       "      <td>66.110000</td>\n",
       "      <td>65.300000</td>\n",
       "      <td>5458.000000</td>\n",
       "      <td>424.000000</td>\n",
       "      <td>2367.800000</td>\n",
       "      <td>2364.420000</td>\n",
       "      <td>2434.900000</td>\n",
       "      <td>2437.000000</td>\n",
       "      <td>7.988300</td>\n",
       "      <td>8.047700</td>\n",
       "    </tr>\n",
       "  </tbody>\n",
       "</table>\n",
       "<p>8 rows × 70 columns</p>\n",
       "</div>"
      ],
      "text/plain": [
       "             Cst_Cnt        Btl_Cnt         Depthm         T_degC  \\\n",
       "count  864863.000000  864863.000000  864863.000000  853900.000000   \n",
       "mean    17138.790958  432432.000000     226.831951      10.799677   \n",
       "std     10240.949817  249664.587269     316.050259       4.243825   \n",
       "min         1.000000       1.000000       0.000000       1.440000   \n",
       "25%      8269.000000  216216.500000      46.000000       7.680000   \n",
       "50%     16848.000000  432432.000000     125.000000      10.060000   \n",
       "75%     26557.000000  648647.500000     300.000000      13.880000   \n",
       "max     34404.000000  864863.000000    5351.000000      31.140000   \n",
       "\n",
       "              Salnty         O2ml_L         STheta          O2Sat  \\\n",
       "count  817509.000000  696201.000000  812174.000000  661274.000000   \n",
       "mean       33.840350       3.392468      25.819394      57.103779   \n",
       "std         0.461843       2.073256       1.167787      37.094137   \n",
       "min        28.431000      -0.010000      20.934000      -0.100000   \n",
       "25%        33.488000       1.360000      24.965000      21.100000   \n",
       "50%        33.863000       3.440000      25.996000      54.400000   \n",
       "75%        34.196900       5.500000      26.646000      97.600000   \n",
       "max        37.034000      11.130000     250.784000     214.100000   \n",
       "\n",
       "         Oxy_µmol/Kg         BtlNum  ...         R_CHLA        R_PHAEO  \\\n",
       "count  661268.000000  118667.000000  ...  225276.000000  225275.000000   \n",
       "mean      148.808694      10.497426  ...       0.450225       0.198599   \n",
       "std        90.187533       6.189688  ...       1.208566       0.376539   \n",
       "min        -0.434900       0.000000  ...      -0.010000      -3.890000   \n",
       "25%        60.915470       5.000000  ...       0.050000       0.050000   \n",
       "50%       151.064150      10.000000  ...       0.160000       0.110000   \n",
       "75%       240.379600      16.000000  ...       0.390000       0.230000   \n",
       "max       485.701800      25.000000  ...      66.110000      65.300000   \n",
       "\n",
       "              R_PRES         R_SAMP         DIC1         DIC2          TA1  \\\n",
       "count  864863.000000  122006.000000  1999.000000   224.000000  2084.000000   \n",
       "mean      228.395694     162.071521  2153.239714  2168.148330  2256.055845   \n",
       "std       319.456731      85.722796   112.995202   154.852332    34.844435   \n",
       "min         0.000000       0.000000  1948.850000  1969.440000  2181.570000   \n",
       "25%        46.000000     200.000000  2028.330000  2008.977500  2230.322500   \n",
       "50%       126.000000     206.000000  2170.640000  2265.885000  2244.325000   \n",
       "75%       302.000000     214.000000  2253.810000  2315.525000  2278.505000   \n",
       "max      5458.000000     424.000000  2367.800000  2364.420000  2434.900000   \n",
       "\n",
       "               TA2        pH2        pH1  \n",
       "count   234.000000  10.000000  84.000000  \n",
       "mean   2278.858803   7.948570   7.910983  \n",
       "std      58.496495   0.021216   0.077666  \n",
       "min    2198.150000   7.923100   7.618300  \n",
       "25%    2229.062500   7.931475   7.898675  \n",
       "50%    2247.505000   7.946650   7.928850  \n",
       "75%    2316.452500   7.963300   7.955100  \n",
       "max    2437.000000   7.988300   8.047700  \n",
       "\n",
       "[8 rows x 70 columns]"
      ]
     },
     "execution_count": 4,
     "metadata": {},
     "output_type": "execute_result"
    }
   ],
   "source": [
    "dataset.describe()"
   ]
  },
  {
   "cell_type": "code",
   "execution_count": 5,
   "id": "29f99871",
   "metadata": {
    "execution": {
     "iopub.execute_input": "2022-08-12T11:45:15.087193Z",
     "iopub.status.busy": "2022-08-12T11:45:15.086072Z",
     "iopub.status.idle": "2022-08-12T11:45:15.099808Z",
     "shell.execute_reply": "2022-08-12T11:45:15.099018Z"
    },
    "papermill": {
     "duration": 0.026178,
     "end_time": "2022-08-12T11:45:15.102015",
     "exception": false,
     "start_time": "2022-08-12T11:45:15.075837",
     "status": "completed"
    },
    "tags": []
   },
   "outputs": [
    {
     "data": {
      "text/html": [
       "<div>\n",
       "<style scoped>\n",
       "    .dataframe tbody tr th:only-of-type {\n",
       "        vertical-align: middle;\n",
       "    }\n",
       "\n",
       "    .dataframe tbody tr th {\n",
       "        vertical-align: top;\n",
       "    }\n",
       "\n",
       "    .dataframe thead th {\n",
       "        text-align: right;\n",
       "    }\n",
       "</style>\n",
       "<table border=\"1\" class=\"dataframe\">\n",
       "  <thead>\n",
       "    <tr style=\"text-align: right;\">\n",
       "      <th></th>\n",
       "      <th>Salnty</th>\n",
       "      <th>T_degC</th>\n",
       "    </tr>\n",
       "  </thead>\n",
       "  <tbody>\n",
       "    <tr>\n",
       "      <th>0</th>\n",
       "      <td>33.440</td>\n",
       "      <td>10.50</td>\n",
       "    </tr>\n",
       "    <tr>\n",
       "      <th>1</th>\n",
       "      <td>33.440</td>\n",
       "      <td>10.46</td>\n",
       "    </tr>\n",
       "    <tr>\n",
       "      <th>2</th>\n",
       "      <td>33.437</td>\n",
       "      <td>10.46</td>\n",
       "    </tr>\n",
       "    <tr>\n",
       "      <th>3</th>\n",
       "      <td>33.420</td>\n",
       "      <td>10.45</td>\n",
       "    </tr>\n",
       "    <tr>\n",
       "      <th>4</th>\n",
       "      <td>33.421</td>\n",
       "      <td>10.45</td>\n",
       "    </tr>\n",
       "  </tbody>\n",
       "</table>\n",
       "</div>"
      ],
      "text/plain": [
       "   Salnty  T_degC\n",
       "0  33.440   10.50\n",
       "1  33.440   10.46\n",
       "2  33.437   10.46\n",
       "3  33.420   10.45\n",
       "4  33.421   10.45"
      ]
     },
     "execution_count": 5,
     "metadata": {},
     "output_type": "execute_result"
    }
   ],
   "source": [
    "dataset=dataset[[\"Salnty\",\"T_degC\"]]\n",
    "dataset.head()"
   ]
  },
  {
   "cell_type": "code",
   "execution_count": 6,
   "id": "9beee93a",
   "metadata": {
    "execution": {
     "iopub.execute_input": "2022-08-12T11:45:15.122579Z",
     "iopub.status.busy": "2022-08-12T11:45:15.121593Z",
     "iopub.status.idle": "2022-08-12T11:45:15.136776Z",
     "shell.execute_reply": "2022-08-12T11:45:15.135913Z"
    },
    "papermill": {
     "duration": 0.027799,
     "end_time": "2022-08-12T11:45:15.138975",
     "exception": false,
     "start_time": "2022-08-12T11:45:15.111176",
     "status": "completed"
    },
    "tags": []
   },
   "outputs": [
    {
     "data": {
      "text/plain": [
       "False    817509\n",
       "True      47354\n",
       "Name: Salnty, dtype: int64"
      ]
     },
     "execution_count": 6,
     "metadata": {},
     "output_type": "execute_result"
    }
   ],
   "source": [
    "dataset.Salnty.isnull().value_counts()"
   ]
  },
  {
   "cell_type": "code",
   "execution_count": 7,
   "id": "6e15c03a",
   "metadata": {
    "execution": {
     "iopub.execute_input": "2022-08-12T11:45:15.160452Z",
     "iopub.status.busy": "2022-08-12T11:45:15.159761Z",
     "iopub.status.idle": "2022-08-12T11:45:15.174856Z",
     "shell.execute_reply": "2022-08-12T11:45:15.174048Z"
    },
    "papermill": {
     "duration": 0.027863,
     "end_time": "2022-08-12T11:45:15.177077",
     "exception": false,
     "start_time": "2022-08-12T11:45:15.149214",
     "status": "completed"
    },
    "tags": []
   },
   "outputs": [
    {
     "data": {
      "text/plain": [
       "False    853900\n",
       "True      10963\n",
       "Name: T_degC, dtype: int64"
      ]
     },
     "execution_count": 7,
     "metadata": {},
     "output_type": "execute_result"
    }
   ],
   "source": [
    "dataset.T_degC.isnull().value_counts()"
   ]
  },
  {
   "cell_type": "code",
   "execution_count": 8,
   "id": "dfd3e310",
   "metadata": {
    "execution": {
     "iopub.execute_input": "2022-08-12T11:45:15.198420Z",
     "iopub.status.busy": "2022-08-12T11:45:15.197702Z",
     "iopub.status.idle": "2022-08-12T11:45:15.226394Z",
     "shell.execute_reply": "2022-08-12T11:45:15.225042Z"
    },
    "papermill": {
     "duration": 0.042725,
     "end_time": "2022-08-12T11:45:15.229166",
     "exception": false,
     "start_time": "2022-08-12T11:45:15.186441",
     "status": "completed"
    },
    "tags": []
   },
   "outputs": [],
   "source": [
    "dataset=dataset.dropna(axis=0)"
   ]
  },
  {
   "cell_type": "code",
   "execution_count": 9,
   "id": "17a4b9bc",
   "metadata": {
    "execution": {
     "iopub.execute_input": "2022-08-12T11:45:15.249541Z",
     "iopub.status.busy": "2022-08-12T11:45:15.249125Z",
     "iopub.status.idle": "2022-08-12T11:45:15.255373Z",
     "shell.execute_reply": "2022-08-12T11:45:15.254620Z"
    },
    "papermill": {
     "duration": 0.018851,
     "end_time": "2022-08-12T11:45:15.257434",
     "exception": false,
     "start_time": "2022-08-12T11:45:15.238583",
     "status": "completed"
    },
    "tags": []
   },
   "outputs": [
    {
     "data": {
      "text/plain": [
       "(814247, 2)"
      ]
     },
     "execution_count": 9,
     "metadata": {},
     "output_type": "execute_result"
    }
   ],
   "source": [
    "dataset.reset_index(drop=True,inplace=True)\n",
    "dataset.shape"
   ]
  },
  {
   "cell_type": "code",
   "execution_count": 10,
   "id": "ef46e815",
   "metadata": {
    "execution": {
     "iopub.execute_input": "2022-08-12T11:45:15.278044Z",
     "iopub.status.busy": "2022-08-12T11:45:15.277380Z",
     "iopub.status.idle": "2022-08-12T11:45:15.312267Z",
     "shell.execute_reply": "2022-08-12T11:45:15.311125Z"
    },
    "papermill": {
     "duration": 0.047916,
     "end_time": "2022-08-12T11:45:15.314669",
     "exception": false,
     "start_time": "2022-08-12T11:45:15.266753",
     "status": "completed"
    },
    "tags": []
   },
   "outputs": [
    {
     "data": {
      "text/plain": [
       "(500, 2)"
      ]
     },
     "execution_count": 10,
     "metadata": {},
     "output_type": "execute_result"
    }
   ],
   "source": [
    "dataset=dataset.sample(n=500)\n",
    "dataset.shape"
   ]
  },
  {
   "cell_type": "markdown",
   "id": "130b080a",
   "metadata": {
    "papermill": {
     "duration": 0.009212,
     "end_time": "2022-08-12T11:45:15.333452",
     "exception": false,
     "start_time": "2022-08-12T11:45:15.324240",
     "status": "completed"
    },
    "tags": []
   },
   "source": [
    "# visualization"
   ]
  },
  {
   "cell_type": "code",
   "execution_count": 11,
   "id": "ca2e466b",
   "metadata": {
    "execution": {
     "iopub.execute_input": "2022-08-12T11:45:15.354545Z",
     "iopub.status.busy": "2022-08-12T11:45:15.353728Z",
     "iopub.status.idle": "2022-08-12T11:45:15.626611Z",
     "shell.execute_reply": "2022-08-12T11:45:15.625356Z"
    },
    "papermill": {
     "duration": 0.286432,
     "end_time": "2022-08-12T11:45:15.629328",
     "exception": false,
     "start_time": "2022-08-12T11:45:15.342896",
     "status": "completed"
    },
    "tags": []
   },
   "outputs": [
    {
     "data": {
      "text/plain": [
       "Text(0, 0.5, 'Salinity')"
      ]
     },
     "execution_count": 11,
     "metadata": {},
     "output_type": "execute_result"
    },
    {
     "data": {
      "image/png": "[encoded data removed]",
      "text/plain": [
       "<Figure size 864x720 with 1 Axes>"
      ]
     },
     "metadata": {
      "needs_background": "light"
     },
     "output_type": "display_data"
    }
   ],
   "source": [
    "plt.figure(figsize=(12,10))\n",
    "plt.scatter(dataset.Salnty,dataset.T_degC, color='aqua')\n",
    "plt.xlabel(\"Temperature\",fontsize=22)\n",
    "plt.ylabel(\"Salinity\",fontsize=22)"
   ]
  },
  {
   "cell_type": "code",
   "execution_count": 12,
   "id": "05fca1e5",
   "metadata": {
    "execution": {
     "iopub.execute_input": "2022-08-12T11:45:15.652489Z",
     "iopub.status.busy": "2022-08-12T11:45:15.651635Z",
     "iopub.status.idle": "2022-08-12T11:45:15.657448Z",
     "shell.execute_reply": "2022-08-12T11:45:15.656307Z"
    },
    "papermill": {
     "duration": 0.020183,
     "end_time": "2022-08-12T11:45:15.659766",
     "exception": false,
     "start_time": "2022-08-12T11:45:15.639583",
     "status": "completed"
    },
    "tags": []
   },
   "outputs": [],
   "source": [
    "x_label=np.array(dataset['Salnty']).reshape(500,1)\n",
    "y_label=np.array(dataset['T_degC']).reshape(500,1)"
   ]
  },
  {
   "cell_type": "markdown",
   "id": "7e9770c8",
   "metadata": {
    "papermill": {
     "duration": 0.009838,
     "end_time": "2022-08-12T11:45:15.679891",
     "exception": false,
     "start_time": "2022-08-12T11:45:15.670053",
     "status": "completed"
    },
    "tags": []
   },
   "source": [
    "# train , test sets"
   ]
  },
  {
   "cell_type": "code",
   "execution_count": 13,
   "id": "7b39987c",
   "metadata": {
    "execution": {
     "iopub.execute_input": "2022-08-12T11:45:15.703709Z",
     "iopub.status.busy": "2022-08-12T11:45:15.703243Z",
     "iopub.status.idle": "2022-08-12T11:45:15.708614Z",
     "shell.execute_reply": "2022-08-12T11:45:15.707777Z"
    },
    "papermill": {
     "duration": 0.020759,
     "end_time": "2022-08-12T11:45:15.710651",
     "exception": false,
     "start_time": "2022-08-12T11:45:15.689892",
     "status": "completed"
    },
    "tags": []
   },
   "outputs": [],
   "source": [
    "x_train, x_test, y_train, y_test = train_test_split(x_label, y_label, test_size = 0.2, random_state = 100)"
   ]
  },
  {
   "cell_type": "markdown",
   "id": "c5bc5402",
   "metadata": {
    "papermill": {
     "duration": 0.009846,
     "end_time": "2022-08-12T11:45:15.730759",
     "exception": false,
     "start_time": "2022-08-12T11:45:15.720913",
     "status": "completed"
    },
    "tags": []
   },
   "source": [
    "# Building and fitting the Regression Model"
   ]
  },
  {
   "cell_type": "code",
   "execution_count": 14,
   "id": "9a3a7e47",
   "metadata": {
    "execution": {
     "iopub.execute_input": "2022-08-12T11:45:15.754208Z",
     "iopub.status.busy": "2022-08-12T11:45:15.753411Z",
     "iopub.status.idle": "2022-08-12T11:45:15.772594Z",
     "shell.execute_reply": "2022-08-12T11:45:15.771654Z"
    },
    "papermill": {
     "duration": 0.03488,
     "end_time": "2022-08-12T11:45:15.775803",
     "exception": false,
     "start_time": "2022-08-12T11:45:15.740923",
     "status": "completed"
    },
    "tags": []
   },
   "outputs": [
    {
     "name": "stdout",
     "output_type": "stream",
     "text": [
      "Coefficients:  [[-4.87767254]]\n",
      "Intercept:  [175.71721991]\n"
     ]
    }
   ],
   "source": [
    "regression_model=LinearRegression()\n",
    "regression_model.fit(x_train,y_train)\n",
    "print('Coefficients: ', regression_model.coef_)\n",
    "print('Intercept: ',regression_model.intercept_)"
   ]
  },
  {
   "cell_type": "code",
   "execution_count": 15,
   "id": "6c3a51e4",
   "metadata": {
    "execution": {
     "iopub.execute_input": "2022-08-12T11:45:15.799986Z",
     "iopub.status.busy": "2022-08-12T11:45:15.799597Z",
     "iopub.status.idle": "2022-08-12T11:45:15.807255Z",
     "shell.execute_reply": "2022-08-12T11:45:15.806098Z"
    },
    "papermill": {
     "duration": 0.022112,
     "end_time": "2022-08-12T11:45:15.809537",
     "exception": false,
     "start_time": "2022-08-12T11:45:15.787425",
     "status": "completed"
    },
    "tags": []
   },
   "outputs": [
    {
     "data": {
      "text/plain": [
       "0.09350097478944475"
      ]
     },
     "execution_count": 15,
     "metadata": {},
     "output_type": "execute_result"
    }
   ],
   "source": [
    "accuracy = regression_model.score(x_test, y_test)\n",
    "accuracy"
   ]
  },
  {
   "cell_type": "code",
   "execution_count": 16,
   "id": "9b0b6adf",
   "metadata": {
    "execution": {
     "iopub.execute_input": "2022-08-12T11:45:15.832822Z",
     "iopub.status.busy": "2022-08-12T11:45:15.831801Z",
     "iopub.status.idle": "2022-08-12T11:45:16.077458Z",
     "shell.execute_reply": "2022-08-12T11:45:16.076490Z"
    },
    "papermill": {
     "duration": 0.259683,
     "end_time": "2022-08-12T11:45:16.079795",
     "exception": false,
     "start_time": "2022-08-12T11:45:15.820112",
     "status": "completed"
    },
    "tags": []
   },
   "outputs": [
    {
     "data": {
      "text/plain": [
       "Text(0.5, 1.0, 'Linear Regression')"
      ]
     },
     "execution_count": 16,
     "metadata": {},
     "output_type": "execute_result"
    },
    {
     "data": {
      "image/png": "[encoded data removed]",
      "text/plain": [
       "<Figure size 864x720 with 1 Axes>"
      ]
     },
     "metadata": {
      "needs_background": "light"
     },
     "output_type": "display_data"
    }
   ],
   "source": [
    "plt.figure(figsize=(12,10))\n",
    "plt.scatter(x_label, y_label,  color='aqua')\n",
    "plt.plot(x_train, regression_model.predict(x_train),linewidth=\"4\")\n",
    "plt.xlabel(\"Temperature\",fontsize=22)\n",
    "plt.ylabel(\"Salinity\",fontsize=22)\n",
    "plt.title(\"Linear Regression\",fontsize=22)"
   ]
  },
  {
   "cell_type": "markdown",
   "id": "776b02cc",
   "metadata": {
    "papermill": {
     "duration": 0.010962,
     "end_time": "2022-08-12T11:45:16.102234",
     "exception": false,
     "start_time": "2022-08-12T11:45:16.091272",
     "status": "completed"
    },
    "tags": []
   },
   "source": [
    "very low accuracy \n",
    "let's try other continious models "
   ]
  },
  {
   "cell_type": "code",
   "execution_count": 17,
   "id": "83d23d07",
   "metadata": {
    "execution": {
     "iopub.execute_input": "2022-08-12T11:45:16.126964Z",
     "iopub.status.busy": "2022-08-12T11:45:16.125876Z",
     "iopub.status.idle": "2022-08-12T11:45:16.132546Z",
     "shell.execute_reply": "2022-08-12T11:45:16.131782Z"
    },
    "papermill": {
     "duration": 0.021201,
     "end_time": "2022-08-12T11:45:16.134580",
     "exception": false,
     "start_time": "2022-08-12T11:45:16.113379",
     "status": "completed"
    },
    "tags": []
   },
   "outputs": [
    {
     "data": {
      "text/plain": [
       "(400, 1)"
      ]
     },
     "execution_count": 17,
     "metadata": {},
     "output_type": "execute_result"
    }
   ],
   "source": [
    "x_train.shape"
   ]
  },
  {
   "cell_type": "code",
   "execution_count": 18,
   "id": "4297ca13",
   "metadata": {
    "execution": {
     "iopub.execute_input": "2022-08-12T11:45:16.159259Z",
     "iopub.status.busy": "2022-08-12T11:45:16.158518Z",
     "iopub.status.idle": "2022-08-12T11:45:16.164448Z",
     "shell.execute_reply": "2022-08-12T11:45:16.163595Z"
    },
    "papermill": {
     "duration": 0.020776,
     "end_time": "2022-08-12T11:45:16.166647",
     "exception": false,
     "start_time": "2022-08-12T11:45:16.145871",
     "status": "completed"
    },
    "tags": []
   },
   "outputs": [
    {
     "data": {
      "text/plain": [
       "(400, 1)"
      ]
     },
     "execution_count": 18,
     "metadata": {},
     "output_type": "execute_result"
    }
   ],
   "source": [
    "y_train.shape"
   ]
  },
  {
   "cell_type": "code",
   "execution_count": 19,
   "id": "bf4013b3",
   "metadata": {
    "execution": {
     "iopub.execute_input": "2022-08-12T11:45:16.192715Z",
     "iopub.status.busy": "2022-08-12T11:45:16.191964Z",
     "iopub.status.idle": "2022-08-12T11:45:16.196060Z",
     "shell.execute_reply": "2022-08-12T11:45:16.195100Z"
    },
    "papermill": {
     "duration": 0.019532,
     "end_time": "2022-08-12T11:45:16.198178",
     "exception": false,
     "start_time": "2022-08-12T11:45:16.178646",
     "status": "completed"
    },
    "tags": []
   },
   "outputs": [],
   "source": [
    "# from sklearn.datasets import make_regression\n",
    "# #isotonicRegression\n",
    "# from sklearn.isotonic import IsotonicRegression\n",
    "# iso_reg = IsotonicRegression().fit(x_train,y_train)"
   ]
  },
  {
   "cell_type": "code",
   "execution_count": 20,
   "id": "6de334e1",
   "metadata": {
    "execution": {
     "iopub.execute_input": "2022-08-12T11:45:16.223422Z",
     "iopub.status.busy": "2022-08-12T11:45:16.222670Z",
     "iopub.status.idle": "2022-08-12T11:45:16.227429Z",
     "shell.execute_reply": "2022-08-12T11:45:16.226627Z"
    },
    "papermill": {
     "duration": 0.020071,
     "end_time": "2022-08-12T11:45:16.229506",
     "exception": false,
     "start_time": "2022-08-12T11:45:16.209435",
     "status": "completed"
    },
    "tags": []
   },
   "outputs": [],
   "source": [
    "y_train2=y_train\n",
    "y_train2=y_train2.flatten()\n",
    "x_train2=x_train\n",
    "y_test2=y_test\n",
    "y_test2=y_test2.flatten()"
   ]
  },
  {
   "cell_type": "code",
   "execution_count": 21,
   "id": "e9c0bbe3",
   "metadata": {
    "execution": {
     "iopub.execute_input": "2022-08-12T11:45:16.254643Z",
     "iopub.status.busy": "2022-08-12T11:45:16.253921Z",
     "iopub.status.idle": "2022-08-12T11:45:16.270251Z",
     "shell.execute_reply": "2022-08-12T11:45:16.269039Z"
    },
    "papermill": {
     "duration": 0.031679,
     "end_time": "2022-08-12T11:45:16.272579",
     "exception": false,
     "start_time": "2022-08-12T11:45:16.240900",
     "status": "completed"
    },
    "tags": []
   },
   "outputs": [
    {
     "data": {
      "text/plain": [
       "Pipeline(steps=[('standardscaler', StandardScaler()),\n",
       "                ('sgdregressor', SGDRegressor(max_iter=2000))])"
      ]
     },
     "execution_count": 21,
     "metadata": {},
     "output_type": "execute_result"
    }
   ],
   "source": [
    "from sklearn.linear_model import SGDRegressor\n",
    "from sklearn.pipeline import make_pipeline\n",
    "from sklearn.preprocessing import StandardScaler\n",
    "rng = np.random.RandomState(0)\n",
    "# Always scale the input. The most convenient way is to use a pipeline.\n",
    "\n",
    "reg = make_pipeline(StandardScaler(),SGDRegressor(max_iter=2000, tol=1e-3))\n",
    "reg.fit(x_train,y_train2)"
   ]
  },
  {
   "cell_type": "code",
   "execution_count": 22,
   "id": "377d7dc8",
   "metadata": {
    "execution": {
     "iopub.execute_input": "2022-08-12T11:45:16.298042Z",
     "iopub.status.busy": "2022-08-12T11:45:16.297326Z",
     "iopub.status.idle": "2022-08-12T11:45:16.304287Z",
     "shell.execute_reply": "2022-08-12T11:45:16.303182Z"
    },
    "papermill": {
     "duration": 0.022863,
     "end_time": "2022-08-12T11:45:16.306872",
     "exception": false,
     "start_time": "2022-08-12T11:45:16.284009",
     "status": "completed"
    },
    "tags": []
   },
   "outputs": [
    {
     "data": {
      "text/plain": [
       "0.0930652480518297"
      ]
     },
     "execution_count": 22,
     "metadata": {},
     "output_type": "execute_result"
    }
   ],
   "source": [
    "accuracy2 = reg.score(x_test, y_test2)\n",
    "accuracy2"
   ]
  },
  {
   "cell_type": "code",
   "execution_count": 23,
   "id": "396767a1",
   "metadata": {
    "execution": {
     "iopub.execute_input": "2022-08-12T11:45:16.332261Z",
     "iopub.status.busy": "2022-08-12T11:45:16.331519Z",
     "iopub.status.idle": "2022-08-12T11:45:16.574182Z",
     "shell.execute_reply": "2022-08-12T11:45:16.573073Z"
    },
    "papermill": {
     "duration": 0.258419,
     "end_time": "2022-08-12T11:45:16.576876",
     "exception": false,
     "start_time": "2022-08-12T11:45:16.318457",
     "status": "completed"
    },
    "tags": []
   },
   "outputs": [
    {
     "data": {
      "text/plain": [
       "Text(0.5, 1.0, ' SGDRegressor')"
      ]
     },
     "execution_count": 23,
     "metadata": {},
     "output_type": "execute_result"
    },
    {
     "data": {
      "image/png": "[encoded data removed]",
      "text/plain": [
       "<Figure size 864x720 with 1 Axes>"
      ]
     },
     "metadata": {
      "needs_background": "light"
     },
     "output_type": "display_data"
    }
   ],
   "source": [
    "plt.figure(figsize=(12,10))\n",
    "plt.scatter(x_label, y_label,  color='aqua')\n",
    "plt.plot(x_train, reg.predict(x_train),linewidth=\"4\")\n",
    "plt.xlabel(\"Temperature\",fontsize=22)\n",
    "plt.ylabel(\"Salinity\",fontsize=22)\n",
    "plt.title(\" SGDRegressor\",fontsize=22)"
   ]
  },
  {
   "cell_type": "code",
   "execution_count": 24,
   "id": "8a8096cb",
   "metadata": {
    "execution": {
     "iopub.execute_input": "2022-08-12T11:45:16.603309Z",
     "iopub.status.busy": "2022-08-12T11:45:16.602872Z",
     "iopub.status.idle": "2022-08-12T11:45:16.623044Z",
     "shell.execute_reply": "2022-08-12T11:45:16.622037Z"
    },
    "papermill": {
     "duration": 0.036279,
     "end_time": "2022-08-12T11:45:16.625547",
     "exception": false,
     "start_time": "2022-08-12T11:45:16.589268",
     "status": "completed"
    },
    "tags": []
   },
   "outputs": [
    {
     "data": {
      "text/plain": [
       "SVR()"
      ]
     },
     "execution_count": 24,
     "metadata": {},
     "output_type": "execute_result"
    }
   ],
   "source": [
    "#SVR Model\n",
    "from sklearn.svm import SVR\n",
    "svrrbf = SVR(kernel=\"rbf\")\n",
    "svrrbf.fit(x_train,y_train2)"
   ]
  },
  {
   "cell_type": "code",
   "execution_count": 25,
   "id": "dd759bb0",
   "metadata": {
    "execution": {
     "iopub.execute_input": "2022-08-12T11:45:16.653093Z",
     "iopub.status.busy": "2022-08-12T11:45:16.652692Z",
     "iopub.status.idle": "2022-08-12T11:45:16.661807Z",
     "shell.execute_reply": "2022-08-12T11:45:16.660874Z"
    },
    "papermill": {
     "duration": 0.025891,
     "end_time": "2022-08-12T11:45:16.664191",
     "exception": false,
     "start_time": "2022-08-12T11:45:16.638300",
     "status": "completed"
    },
    "tags": []
   },
   "outputs": [
    {
     "data": {
      "text/plain": [
       "0.1728530019731046"
      ]
     },
     "execution_count": 25,
     "metadata": {},
     "output_type": "execute_result"
    }
   ],
   "source": [
    "accuracy3 = svrrbf.score(x_test, y_test2)\n",
    "accuracy3"
   ]
  },
  {
   "cell_type": "code",
   "execution_count": 26,
   "id": "401077e7",
   "metadata": {
    "execution": {
     "iopub.execute_input": "2022-08-12T11:45:16.692203Z",
     "iopub.status.busy": "2022-08-12T11:45:16.691769Z",
     "iopub.status.idle": "2022-08-12T11:45:16.972444Z",
     "shell.execute_reply": "2022-08-12T11:45:16.971497Z"
    },
    "papermill": {
     "duration": 0.297475,
     "end_time": "2022-08-12T11:45:16.974858",
     "exception": false,
     "start_time": "2022-08-12T11:45:16.677383",
     "status": "completed"
    },
    "tags": []
   },
   "outputs": [
    {
     "data": {
      "text/plain": [
       "Text(0.5, 1.0, 'SVR')"
      ]
     },
     "execution_count": 26,
     "metadata": {},
     "output_type": "execute_result"
    },
    {
     "data": {
      "image/png": "[encoded data removed]",
      "text/plain": [
       "<Figure size 864x720 with 1 Axes>"
      ]
     },
     "metadata": {
      "needs_background": "light"
     },
     "output_type": "display_data"
    }
   ],
   "source": [
    "plt.figure(figsize=(12,10))\n",
    "plt.scatter(x_label, y_label,  color='aqua')\n",
    "plt.plot(x_train, svrrbf.predict(x_train),linewidth=\"4\")\n",
    "plt.xlabel(\"Temperature\",fontsize=22)\n",
    "plt.ylabel(\"Salinity\",fontsize=22)\n",
    "plt.title(\"SVR\",fontsize=22)"
   ]
  },
  {
   "cell_type": "code",
   "execution_count": 27,
   "id": "56445670",
   "metadata": {
    "execution": {
     "iopub.execute_input": "2022-08-12T11:45:17.004891Z",
     "iopub.status.busy": "2022-08-12T11:45:17.004424Z",
     "iopub.status.idle": "2022-08-12T11:45:17.298903Z",
     "shell.execute_reply": "2022-08-12T11:45:17.297590Z"
    },
    "papermill": {
     "duration": 0.312932,
     "end_time": "2022-08-12T11:45:17.302116",
     "exception": false,
     "start_time": "2022-08-12T11:45:16.989184",
     "status": "completed"
    },
    "tags": []
   },
   "outputs": [],
   "source": [
    "#random forest \n",
    "from sklearn.ensemble import RandomForestRegressor\n",
    "model4 = RandomForestRegressor(n_estimators=100, max_features=1)\n",
    "model4.fit(x_train,y_train2)\n",
    "accuracy4 = model4.score(x_test, y_test2)\n"
   ]
  },
  {
   "cell_type": "code",
   "execution_count": 28,
   "id": "b39f1dab",
   "metadata": {
    "execution": {
     "iopub.execute_input": "2022-08-12T11:45:17.332660Z",
     "iopub.status.busy": "2022-08-12T11:45:17.331830Z",
     "iopub.status.idle": "2022-08-12T11:45:17.339056Z",
     "shell.execute_reply": "2022-08-12T11:45:17.338149Z"
    },
    "papermill": {
     "duration": 0.025137,
     "end_time": "2022-08-12T11:45:17.341358",
     "exception": false,
     "start_time": "2022-08-12T11:45:17.316221",
     "status": "completed"
    },
    "tags": []
   },
   "outputs": [
    {
     "data": {
      "text/plain": [
       "-0.09912888049488666"
      ]
     },
     "execution_count": 28,
     "metadata": {},
     "output_type": "execute_result"
    }
   ],
   "source": [
    "accuracy4"
   ]
  },
  {
   "cell_type": "code",
   "execution_count": null,
   "id": "6f6b9ac3",
   "metadata": {
    "papermill": {
     "duration": 0.013231,
     "end_time": "2022-08-12T11:45:17.368437",
     "exception": false,
     "start_time": "2022-08-12T11:45:17.355206",
     "status": "completed"
    },
    "tags": []
   },
   "outputs": [],
   "source": []
  },
  {
   "cell_type": "code",
   "execution_count": null,
   "id": "097100d3",
   "metadata": {
    "papermill": {
     "duration": 0.013315,
     "end_time": "2022-08-12T11:45:17.395434",
     "exception": false,
     "start_time": "2022-08-12T11:45:17.382119",
     "status": "completed"
    },
    "tags": []
   },
   "outputs": [],
   "source": []
  }
 ],
 "metadata": {
  "kernelspec": {
   "display_name": "Python 3",
   "language": "python",
   "name": "python3"
  },
  "language_info": {
   "codemirror_mode": {
    "name": "ipython",
    "version": 3
   },
   "file_extension": ".py",
   "mimetype": "text/x-python",
   "name": "python",
   "nbconvert_exporter": "python",
   "pygments_lexer": "ipython3",
   "version": "3.7.12"
  },
  "papermill": {
   "default_parameters": {},
   "duration": 24.707459,
   "end_time": "2022-08-12T11:45:18.342057",
   "environment_variables": {},
   "exception": null,
   "input_path": "__notebook__.ipynb",
   "output_path": "__notebook__.ipynb",
   "parameters": {},
   "start_time": "2022-08-12T11:44:53.634598",
   "version": "2.3.4"
  }
 },
 "nbformat": 4,
 "nbformat_minor": 5
}
